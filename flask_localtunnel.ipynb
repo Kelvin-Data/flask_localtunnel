{
  "nbformat": 4,
  "nbformat_minor": 0,
  "metadata": {
    "colab": {
      "private_outputs": true,
      "provenance": [],
      "authorship_tag": "ABX9TyNY06G5OHeLkU8dxlQfMZjT",
      "include_colab_link": true
    },
    "kernelspec": {
      "name": "python3",
      "display_name": "Python 3"
    },
    "language_info": {
      "name": "python"
    }
  },
  "cells": [
    {
      "cell_type": "markdown",
      "metadata": {
        "id": "view-in-github",
        "colab_type": "text"
      },
      "source": [
        "<a href=\"https://colab.research.google.com/github/Kelvin-Data/flask_localtunnel/blob/main/flask_localtunnel.ipynb\" target=\"_parent\"><img src=\"https://colab.research.google.com/assets/colab-badge.svg\" alt=\"Open In Colab\"/></a>"
      ]
    },
    {
      "cell_type": "code",
      "execution_count": null,
      "metadata": {
        "id": "n4qjyCkyHbe3"
      },
      "outputs": [],
      "source": [
        "!pip install flask-localtunnel\n",
        "!pip install flask"
      ]
    },
    {
      "cell_type": "code",
      "source": [
        "from google.colab import drive\n",
        "drive.mount('/content/drive')"
      ],
      "metadata": {
        "id": "WWmeHWuPTenY"
      },
      "execution_count": null,
      "outputs": []
    },
    {
      "cell_type": "code",
      "source": [
        "!wget -q -O - ipv4.icanhazip.com"
      ],
      "metadata": {
        "id": "pt9jDVEQIN12"
      },
      "execution_count": null,
      "outputs": []
    },
    {
      "cell_type": "code",
      "source": [
        "from flask import Flask, url_for\n",
        "from flask_lt import run_with_lt\n",
        "\n",
        "templates_folder = ''\n",
        "static_folder = ''\n",
        "\n",
        "app = Flask(__name__,\n",
        "            template_folder = templates_folder,\n",
        "            static_folder = static_folder)\n",
        "\n",
        "run_with_lt(app)\n",
        "\n",
        "@app.route(\"/\")\n",
        "def hello():\n",
        "    return \"Hello Sarah!\"\n",
        "\n",
        "@app.route(\"/favicon.ico\")\n",
        "def favicon():\n",
        "    return url_for('static', filename='data:,')\n",
        "\n",
        "if __name__ == '__main__':\n",
        "    app.run()"
      ],
      "metadata": {
        "id": "Bj3Y4AToHndy"
      },
      "execution_count": null,
      "outputs": []
    },
    {
      "cell_type": "markdown",
      "source": [
        "https://pypi.org/project/flask-localtunnel/"
      ],
      "metadata": {
        "id": "KkiryWScIBxr"
      }
    },
    {
      "cell_type": "markdown",
      "source": [
        "https://pypi.org/project/flask-localtunnel/"
      ],
      "metadata": {
        "id": "UUZQtNHfJkZN"
      }
    },
    {
      "cell_type": "markdown",
      "source": [
        "**Features**\n",
        "\n",
        "HTTP tunnels with simple CLI\n",
        "\n",
        "Custom subdomain can be created easily\n",
        "\n",
        "Support HTTP Rest API, and JavaScript SDK"
      ],
      "metadata": {
        "id": "TZhWGkxIQ6Y1"
      }
    },
    {
      "cell_type": "markdown",
      "source": [
        "**Pros**\n",
        "\n",
        "The tool is available for free of cost\n",
        "\n",
        "This is an open-source tool\n",
        "\n",
        "You can host your tunnel server"
      ],
      "metadata": {
        "id": "cgsEm5AGRFJt"
      }
    },
    {
      "cell_type": "markdown",
      "source": [
        "**Cons**\n",
        "\n",
        "NodeJS is required to run the app\n",
        "\n",
        "Limited features\n",
        "\n",
        "Cannot be used for production"
      ],
      "metadata": {
        "id": "dYHp2SC4RJWe"
      }
    }
  ]
}